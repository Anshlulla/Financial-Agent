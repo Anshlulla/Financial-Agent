{
 "cells": [
  {
   "cell_type": "code",
   "execution_count": 14,
   "id": "f05ab9fa",
   "metadata": {},
   "outputs": [
    {
     "data": {
      "text/plain": [
       "True"
      ]
     },
     "execution_count": 14,
     "metadata": {},
     "output_type": "execute_result"
    }
   ],
   "source": [
    "import os\n",
    "from dotenv import  load_dotenv\n",
    "from langchain_groq import ChatGroq\n",
    "import yfinance as yf\n",
    "from langchain_core.tools import StructuredTool, tool\n",
    "from datetime import  date\n",
    "from langchain.agents import AgentExecutor, create_tool_calling_agent\n",
    "from langchain_groq import ChatGroq\n",
    "from langchain.prompts import ChatPromptTemplate\n",
    "from langchain_core.prompts import MessagesPlaceholder\n",
    "from langchain_core.messages import HumanMessage\n",
    "\n",
    "load_dotenv()"
   ]
  },
  {
   "cell_type": "code",
   "execution_count": 3,
   "id": "da843591",
   "metadata": {},
   "outputs": [
    {
     "data": {
      "text/plain": [
       "ChatGroq(client=<groq.resources.chat.completions.Completions object at 0x0000026314DBFB90>, async_client=<groq.resources.chat.completions.AsyncCompletions object at 0x0000026314DE06B0>, model_name='llama3-8b-8192', temperature=0.2, model_kwargs={}, groq_api_key=SecretStr('**********'))"
      ]
     },
     "execution_count": 3,
     "metadata": {},
     "output_type": "execute_result"
    }
   ],
   "source": [
    "llm = ChatGroq(model=\"llama3-8b-8192\", temperature=0.2)\n",
    "llm"
   ]
  },
  {
   "cell_type": "code",
   "execution_count": 7,
   "id": "deb50f00",
   "metadata": {},
   "outputs": [],
   "source": [
    "# Defining the Custom Tools\n",
    "\n",
    "@tool\n",
    "def company_information(ticker: str) -> dict:\n",
    "    \"\"\"Use this tool to retrieve company information like address, industry, sector, company officers, business summary, website,\n",
    "       marketCap, current price, ebitda, total debt, total revenue, debt-to-equity, etc.\"\"\"\n",
    "    \n",
    "    ticker_obj = yf.Ticker(ticker)\n",
    "    ticker_info = ticker_obj.get_info()\n",
    "\n",
    "    return ticker_info\n",
    "\n",
    "@tool\n",
    "def last_dividend_and_earnings_date(ticker: str) -> dict:\n",
    "    \"\"\"\n",
    "    Use this tool to retrieve company's last dividend date and earnings release dates.\n",
    "    It does not provide information about historical dividend yields.\n",
    "    \"\"\"\n",
    "    ticker_obj = yf.Ticker(ticker)\n",
    "    \n",
    "    return ticker_obj.get_calendar()\n",
    "\n",
    "@tool\n",
    "def summary_of_mutual_fund_holders(ticker: str) -> dict:\n",
    "    \"\"\"\n",
    "    Use this tool to retrieve company's top mutual fund holders. \n",
    "    It also returns their percentage of share, stock count and value of holdings.\n",
    "    \"\"\"\n",
    "    ticker_obj = yf.Ticker(ticker)\n",
    "    mf_holders = ticker_obj.get_mutualfund_holders()\n",
    "    \n",
    "    return mf_holders.to_dict(orient=\"records\")\n",
    "\n",
    "@tool\n",
    "def summary_of_institutional_holders(ticker: str) -> dict:\n",
    "    \"\"\"\n",
    "    Use this tool to retrieve company's top institutional holders. \n",
    "    It also returns their percentage of share, stock count and value of holdings.\n",
    "    \"\"\"\n",
    "    ticker_obj = yf.Ticker(ticker)   \n",
    "    inst_holders = ticker_obj.get_institutional_holders()\n",
    "    \n",
    "    return inst_holders.to_dict(orient=\"records\")\n",
    "\n",
    "@tool\n",
    "def stock_grade_updrages_downgrades(ticker: str) -> dict:\n",
    "    \"\"\"\n",
    "    Use this to retrieve grade ratings upgrades and downgrades details of particular stock.\n",
    "    It'll provide name of firms along with 'To Grade' and 'From Grade' details. Grade date is also provided.\n",
    "    \"\"\"\n",
    "    ticker_obj = yf.Ticker(ticker)\n",
    "    \n",
    "    curr_year = date.today().year\n",
    "    \n",
    "    upgrades_downgrades = ticker_obj.get_upgrades_downgrades()\n",
    "    upgrades_downgrades = upgrades_downgrades.loc[upgrades_downgrades.index > f\"{curr_year}-01-01\"]\n",
    "    upgrades_downgrades = upgrades_downgrades[upgrades_downgrades[\"Action\"].isin([\"up\", \"down\"])]\n",
    "    \n",
    "    return upgrades_downgrades.to_dict(orient=\"records\")\n",
    "\n",
    "@tool\n",
    "def stock_splits_history(ticker: str) -> dict:\n",
    "    \"\"\"\n",
    "    Use this tool to retrieve company's historical stock splits data.\n",
    "    \"\"\"\n",
    "    ticker_obj = yf.Ticker(ticker)\n",
    "    hist_splits = ticker_obj.get_splits()\n",
    "    \n",
    "    return hist_splits.to_dict()\n",
    "\n",
    "@tool\n",
    "def stock_news(ticker: str) -> dict:\n",
    "    \"\"\"\n",
    "    Use this to retrieve latest news articles discussing particular stock ticker.\n",
    "    \"\"\"\n",
    "    ticker_obj = yf.Ticker(ticker)\n",
    "    \n",
    "    return ticker_obj.get_news()"
   ]
  },
  {
   "cell_type": "code",
   "execution_count": 9,
   "id": "818be459",
   "metadata": {},
   "outputs": [],
   "source": [
    "tools = [\n",
    "         company_information,\n",
    "         last_dividend_and_earnings_date,\n",
    "         stock_splits_history,\n",
    "         summary_of_mutual_fund_holders,\n",
    "         summary_of_institutional_holders, \n",
    "         stock_grade_updrages_downgrades,\n",
    "         stock_news\n",
    "]"
   ]
  },
  {
   "cell_type": "code",
   "execution_count": 10,
   "id": "30beda87",
   "metadata": {},
   "outputs": [],
   "source": [
    "prompt = ChatPromptTemplate.from_messages(\n",
    "    [\n",
    "        (\n",
    "            \"system\",\n",
    "            \"You are a helpful assistant. Try to answer user query using available tools.\",\n",
    "        ),\n",
    "        MessagesPlaceholder(variable_name=\"messages\"),\n",
    "        MessagesPlaceholder(variable_name=\"agent_scratchpad\"),\n",
    "    ]\n",
    ")"
   ]
  },
  {
   "cell_type": "code",
   "execution_count": 12,
   "id": "1fbdcab9",
   "metadata": {},
   "outputs": [
    {
     "data": {
      "text/plain": [
       "RunnableAssign(mapper={\n",
       "  agent_scratchpad: RunnableLambda(lambda x: message_formatter(x['intermediate_steps']))\n",
       "})\n",
       "| ChatPromptTemplate(input_variables=['agent_scratchpad', 'messages'], input_types={'messages': list[typing.Annotated[typing.Union[typing.Annotated[langchain_core.messages.ai.AIMessage, Tag(tag='ai')], typing.Annotated[langchain_core.messages.human.HumanMessage, Tag(tag='human')], typing.Annotated[langchain_core.messages.chat.ChatMessage, Tag(tag='chat')], typing.Annotated[langchain_core.messages.system.SystemMessage, Tag(tag='system')], typing.Annotated[langchain_core.messages.function.FunctionMessage, Tag(tag='function')], typing.Annotated[langchain_core.messages.tool.ToolMessage, Tag(tag='tool')], typing.Annotated[langchain_core.messages.ai.AIMessageChunk, Tag(tag='AIMessageChunk')], typing.Annotated[langchain_core.messages.human.HumanMessageChunk, Tag(tag='HumanMessageChunk')], typing.Annotated[langchain_core.messages.chat.ChatMessageChunk, Tag(tag='ChatMessageChunk')], typing.Annotated[langchain_core.messages.system.SystemMessageChunk, Tag(tag='SystemMessageChunk')], typing.Annotated[langchain_core.messages.function.FunctionMessageChunk, Tag(tag='FunctionMessageChunk')], typing.Annotated[langchain_core.messages.tool.ToolMessageChunk, Tag(tag='ToolMessageChunk')]], FieldInfo(annotation=NoneType, required=True, discriminator=Discriminator(discriminator=<function _get_type at 0x000002630336D760>, custom_error_type=None, custom_error_message=None, custom_error_context=None))]], 'agent_scratchpad': list[typing.Annotated[typing.Union[typing.Annotated[langchain_core.messages.ai.AIMessage, Tag(tag='ai')], typing.Annotated[langchain_core.messages.human.HumanMessage, Tag(tag='human')], typing.Annotated[langchain_core.messages.chat.ChatMessage, Tag(tag='chat')], typing.Annotated[langchain_core.messages.system.SystemMessage, Tag(tag='system')], typing.Annotated[langchain_core.messages.function.FunctionMessage, Tag(tag='function')], typing.Annotated[langchain_core.messages.tool.ToolMessage, Tag(tag='tool')], typing.Annotated[langchain_core.messages.ai.AIMessageChunk, Tag(tag='AIMessageChunk')], typing.Annotated[langchain_core.messages.human.HumanMessageChunk, Tag(tag='HumanMessageChunk')], typing.Annotated[langchain_core.messages.chat.ChatMessageChunk, Tag(tag='ChatMessageChunk')], typing.Annotated[langchain_core.messages.system.SystemMessageChunk, Tag(tag='SystemMessageChunk')], typing.Annotated[langchain_core.messages.function.FunctionMessageChunk, Tag(tag='FunctionMessageChunk')], typing.Annotated[langchain_core.messages.tool.ToolMessageChunk, Tag(tag='ToolMessageChunk')]], FieldInfo(annotation=NoneType, required=True, discriminator=Discriminator(discriminator=<function _get_type at 0x000002630336D760>, custom_error_type=None, custom_error_message=None, custom_error_context=None))]]}, partial_variables={}, messages=[SystemMessagePromptTemplate(prompt=PromptTemplate(input_variables=[], input_types={}, partial_variables={}, template='You are a helpful assistant. Try to answer user query using available tools.'), additional_kwargs={}), MessagesPlaceholder(variable_name='messages'), MessagesPlaceholder(variable_name='agent_scratchpad')])\n",
       "| RunnableBinding(bound=ChatGroq(client=<groq.resources.chat.completions.Completions object at 0x0000026314DBFB90>, async_client=<groq.resources.chat.completions.AsyncCompletions object at 0x0000026314DE06B0>, model_name='llama3-8b-8192', temperature=0.2, model_kwargs={}, groq_api_key=SecretStr('**********')), kwargs={'tools': [{'type': 'function', 'function': {'name': 'company_information', 'description': 'Use this tool to retrieve company information like address, industry, sector, company officers, business summary, website,\\n       marketCap, current price, ebitda, total debt, total revenue, debt-to-equity, etc.', 'parameters': {'properties': {'ticker': {'type': 'string'}}, 'required': ['ticker'], 'type': 'object'}}}, {'type': 'function', 'function': {'name': 'last_dividend_and_earnings_date', 'description': \"Use this tool to retrieve company's last dividend date and earnings release dates.\\nIt does not provide information about historical dividend yields.\", 'parameters': {'properties': {'ticker': {'type': 'string'}}, 'required': ['ticker'], 'type': 'object'}}}, {'type': 'function', 'function': {'name': 'stock_splits_history', 'description': \"Use this tool to retrieve company's historical stock splits data.\", 'parameters': {'properties': {'ticker': {'type': 'string'}}, 'required': ['ticker'], 'type': 'object'}}}, {'type': 'function', 'function': {'name': 'summary_of_mutual_fund_holders', 'description': \"Use this tool to retrieve company's top mutual fund holders. \\nIt also returns their percentage of share, stock count and value of holdings.\", 'parameters': {'properties': {'ticker': {'type': 'string'}}, 'required': ['ticker'], 'type': 'object'}}}, {'type': 'function', 'function': {'name': 'summary_of_institutional_holders', 'description': \"Use this tool to retrieve company's top institutional holders. \\nIt also returns their percentage of share, stock count and value of holdings.\", 'parameters': {'properties': {'ticker': {'type': 'string'}}, 'required': ['ticker'], 'type': 'object'}}}, {'type': 'function', 'function': {'name': 'stock_grade_updrages_downgrades', 'description': \"Use this to retrieve grade ratings upgrades and downgrades details of particular stock.\\nIt'll provide name of firms along with 'To Grade' and 'From Grade' details. Grade date is also provided.\", 'parameters': {'properties': {'ticker': {'type': 'string'}}, 'required': ['ticker'], 'type': 'object'}}}, {'type': 'function', 'function': {'name': 'stock_news', 'description': 'Use this to retrieve latest news articles discussing particular stock ticker.', 'parameters': {'properties': {'ticker': {'type': 'string'}}, 'required': ['ticker'], 'type': 'object'}}}]}, config={}, config_factories=[])\n",
       "| ToolsAgentOutputParser()"
      ]
     },
     "execution_count": 12,
     "metadata": {},
     "output_type": "execute_result"
    }
   ],
   "source": [
    "finance_agent = create_tool_calling_agent(llm=llm, tools=tools, prompt=prompt)\n",
    "finance_agent"
   ]
  },
  {
   "cell_type": "code",
   "execution_count": 13,
   "id": "c2bb41a0",
   "metadata": {},
   "outputs": [
    {
     "data": {
      "text/plain": [
       "AgentExecutor(verbose=True, agent=RunnableMultiActionAgent(runnable=RunnableAssign(mapper={\n",
       "  agent_scratchpad: RunnableLambda(lambda x: message_formatter(x['intermediate_steps']))\n",
       "})\n",
       "| ChatPromptTemplate(input_variables=['agent_scratchpad', 'messages'], input_types={'messages': list[typing.Annotated[typing.Union[typing.Annotated[langchain_core.messages.ai.AIMessage, Tag(tag='ai')], typing.Annotated[langchain_core.messages.human.HumanMessage, Tag(tag='human')], typing.Annotated[langchain_core.messages.chat.ChatMessage, Tag(tag='chat')], typing.Annotated[langchain_core.messages.system.SystemMessage, Tag(tag='system')], typing.Annotated[langchain_core.messages.function.FunctionMessage, Tag(tag='function')], typing.Annotated[langchain_core.messages.tool.ToolMessage, Tag(tag='tool')], typing.Annotated[langchain_core.messages.ai.AIMessageChunk, Tag(tag='AIMessageChunk')], typing.Annotated[langchain_core.messages.human.HumanMessageChunk, Tag(tag='HumanMessageChunk')], typing.Annotated[langchain_core.messages.chat.ChatMessageChunk, Tag(tag='ChatMessageChunk')], typing.Annotated[langchain_core.messages.system.SystemMessageChunk, Tag(tag='SystemMessageChunk')], typing.Annotated[langchain_core.messages.function.FunctionMessageChunk, Tag(tag='FunctionMessageChunk')], typing.Annotated[langchain_core.messages.tool.ToolMessageChunk, Tag(tag='ToolMessageChunk')]], FieldInfo(annotation=NoneType, required=True, discriminator=Discriminator(discriminator=<function _get_type at 0x000002630336D760>, custom_error_type=None, custom_error_message=None, custom_error_context=None))]], 'agent_scratchpad': list[typing.Annotated[typing.Union[typing.Annotated[langchain_core.messages.ai.AIMessage, Tag(tag='ai')], typing.Annotated[langchain_core.messages.human.HumanMessage, Tag(tag='human')], typing.Annotated[langchain_core.messages.chat.ChatMessage, Tag(tag='chat')], typing.Annotated[langchain_core.messages.system.SystemMessage, Tag(tag='system')], typing.Annotated[langchain_core.messages.function.FunctionMessage, Tag(tag='function')], typing.Annotated[langchain_core.messages.tool.ToolMessage, Tag(tag='tool')], typing.Annotated[langchain_core.messages.ai.AIMessageChunk, Tag(tag='AIMessageChunk')], typing.Annotated[langchain_core.messages.human.HumanMessageChunk, Tag(tag='HumanMessageChunk')], typing.Annotated[langchain_core.messages.chat.ChatMessageChunk, Tag(tag='ChatMessageChunk')], typing.Annotated[langchain_core.messages.system.SystemMessageChunk, Tag(tag='SystemMessageChunk')], typing.Annotated[langchain_core.messages.function.FunctionMessageChunk, Tag(tag='FunctionMessageChunk')], typing.Annotated[langchain_core.messages.tool.ToolMessageChunk, Tag(tag='ToolMessageChunk')]], FieldInfo(annotation=NoneType, required=True, discriminator=Discriminator(discriminator=<function _get_type at 0x000002630336D760>, custom_error_type=None, custom_error_message=None, custom_error_context=None))]]}, partial_variables={}, messages=[SystemMessagePromptTemplate(prompt=PromptTemplate(input_variables=[], input_types={}, partial_variables={}, template='You are a helpful assistant. Try to answer user query using available tools.'), additional_kwargs={}), MessagesPlaceholder(variable_name='messages'), MessagesPlaceholder(variable_name='agent_scratchpad')])\n",
       "| RunnableBinding(bound=ChatGroq(client=<groq.resources.chat.completions.Completions object at 0x0000026314DBFB90>, async_client=<groq.resources.chat.completions.AsyncCompletions object at 0x0000026314DE06B0>, model_name='llama3-8b-8192', temperature=0.2, model_kwargs={}, groq_api_key=SecretStr('**********')), kwargs={'tools': [{'type': 'function', 'function': {'name': 'company_information', 'description': 'Use this tool to retrieve company information like address, industry, sector, company officers, business summary, website,\\n       marketCap, current price, ebitda, total debt, total revenue, debt-to-equity, etc.', 'parameters': {'properties': {'ticker': {'type': 'string'}}, 'required': ['ticker'], 'type': 'object'}}}, {'type': 'function', 'function': {'name': 'last_dividend_and_earnings_date', 'description': \"Use this tool to retrieve company's last dividend date and earnings release dates.\\nIt does not provide information about historical dividend yields.\", 'parameters': {'properties': {'ticker': {'type': 'string'}}, 'required': ['ticker'], 'type': 'object'}}}, {'type': 'function', 'function': {'name': 'stock_splits_history', 'description': \"Use this tool to retrieve company's historical stock splits data.\", 'parameters': {'properties': {'ticker': {'type': 'string'}}, 'required': ['ticker'], 'type': 'object'}}}, {'type': 'function', 'function': {'name': 'summary_of_mutual_fund_holders', 'description': \"Use this tool to retrieve company's top mutual fund holders. \\nIt also returns their percentage of share, stock count and value of holdings.\", 'parameters': {'properties': {'ticker': {'type': 'string'}}, 'required': ['ticker'], 'type': 'object'}}}, {'type': 'function', 'function': {'name': 'summary_of_institutional_holders', 'description': \"Use this tool to retrieve company's top institutional holders. \\nIt also returns their percentage of share, stock count and value of holdings.\", 'parameters': {'properties': {'ticker': {'type': 'string'}}, 'required': ['ticker'], 'type': 'object'}}}, {'type': 'function', 'function': {'name': 'stock_grade_updrages_downgrades', 'description': \"Use this to retrieve grade ratings upgrades and downgrades details of particular stock.\\nIt'll provide name of firms along with 'To Grade' and 'From Grade' details. Grade date is also provided.\", 'parameters': {'properties': {'ticker': {'type': 'string'}}, 'required': ['ticker'], 'type': 'object'}}}, {'type': 'function', 'function': {'name': 'stock_news', 'description': 'Use this to retrieve latest news articles discussing particular stock ticker.', 'parameters': {'properties': {'ticker': {'type': 'string'}}, 'required': ['ticker'], 'type': 'object'}}}]}, config={}, config_factories=[])\n",
       "| ToolsAgentOutputParser(), input_keys_arg=[], return_keys_arg=[], stream_runnable=True), tools=[StructuredTool(name='company_information', description='Use this tool to retrieve company information like address, industry, sector, company officers, business summary, website,\\n       marketCap, current price, ebitda, total debt, total revenue, debt-to-equity, etc.', args_schema=<class 'langchain_core.utils.pydantic.company_information'>, func=<function company_information at 0x0000026314DD6B60>), StructuredTool(name='last_dividend_and_earnings_date', description=\"Use this tool to retrieve company's last dividend date and earnings release dates.\\nIt does not provide information about historical dividend yields.\", args_schema=<class 'langchain_core.utils.pydantic.last_dividend_and_earnings_date'>, func=<function last_dividend_and_earnings_date at 0x0000026314DD6F20>), StructuredTool(name='stock_splits_history', description=\"Use this tool to retrieve company's historical stock splits data.\", args_schema=<class 'langchain_core.utils.pydantic.stock_splits_history'>, func=<function stock_splits_history at 0x0000026314DD7C40>), StructuredTool(name='summary_of_mutual_fund_holders', description=\"Use this tool to retrieve company's top mutual fund holders. \\nIt also returns their percentage of share, stock count and value of holdings.\", args_schema=<class 'langchain_core.utils.pydantic.summary_of_mutual_fund_holders'>, func=<function summary_of_mutual_fund_holders at 0x0000026314DD51C0>), StructuredTool(name='summary_of_institutional_holders', description=\"Use this tool to retrieve company's top institutional holders. \\nIt also returns their percentage of share, stock count and value of holdings.\", args_schema=<class 'langchain_core.utils.pydantic.summary_of_institutional_holders'>, func=<function summary_of_institutional_holders at 0x0000026314DD7240>), StructuredTool(name='stock_grade_updrages_downgrades', description=\"Use this to retrieve grade ratings upgrades and downgrades details of particular stock.\\nIt'll provide name of firms along with 'To Grade' and 'From Grade' details. Grade date is also provided.\", args_schema=<class 'langchain_core.utils.pydantic.stock_grade_updrages_downgrades'>, func=<function stock_grade_updrages_downgrades at 0x0000026314DD76A0>), StructuredTool(name='stock_news', description='Use this to retrieve latest news articles discussing particular stock ticker.', args_schema=<class 'langchain_core.utils.pydantic.stock_news'>, func=<function stock_news at 0x0000026314DD4FE0>)])"
      ]
     },
     "execution_count": 13,
     "metadata": {},
     "output_type": "execute_result"
    }
   ],
   "source": [
    "finance_agent_executor = AgentExecutor(agent=finance_agent, tools=tools, verbose=True)\n",
    "finance_agent_executor"
   ]
  },
  {
   "cell_type": "code",
   "execution_count": 15,
   "id": "30f4860d",
   "metadata": {},
   "outputs": [
    {
     "name": "stdout",
     "output_type": "stream",
     "text": [
      "\n",
      "\n",
      "\u001b[1m> Entering new AgentExecutor chain...\u001b[0m\n",
      "\u001b[32;1m\u001b[1;3m\n",
      "Invoking: `company_information` with `{'ticker': 'MSFT'}`\n",
      "\n",
      "\n",
      "\u001b[0m\u001b[36;1m\u001b[1;3m{'address1': 'One Microsoft Way', 'city': 'Redmond', 'state': 'WA', 'zip': '98052-6399', 'country': 'United States', 'phone': '425 882 8080', 'website': 'https://www.microsoft.com', 'industry': 'Software - Infrastructure', 'industryKey': 'software-infrastructure', 'industryDisp': 'Software - Infrastructure', 'sector': 'Technology', 'sectorKey': 'technology', 'sectorDisp': 'Technology', 'longBusinessSummary': 'Microsoft Corporation develops and supports software, services, devices and solutions worldwide. The Productivity and Business Processes segment offers office, exchange, SharePoint, Microsoft Teams, office 365 Security and Compliance, Microsoft viva, and Microsoft 365 copilot; and office consumer services, such as Microsoft 365 consumer subscriptions, Office licensed on-premises, and other office services. This segment also provides LinkedIn; and dynamics business solutions, including Dynamics 365, a set of intelligent, cloud-based applications across ERP, CRM, power apps, and power automate; and on-premises ERP and CRM applications. The Intelligent Cloud segment offers server products and cloud services, such as azure and other cloud services; SQL and windows server, visual studio, system center, and related client access licenses, as well as nuance and GitHub; and enterprise services including enterprise support services, industry solutions, and nuance professional services. The More Personal Computing segment offers Windows, including windows OEM licensing and other non-volume licensing of the Windows operating system; Windows commercial comprising volume licensing of the Windows operating system, windows cloud services, and other Windows commercial offerings; patent licensing; and windows Internet of Things; and devices, such as surface, HoloLens, and PC accessories. Additionally, this segment provides gaming, which includes Xbox hardware and content, and first- and third-party content; Xbox game pass and other subscriptions, cloud gaming, advertising, third-party disc royalties, and other cloud services; and search and news advertising, which includes Bing, Microsoft News and Edge, and third-party affiliates. The company sells its products through OEMs, distributors, and resellers; and directly through digital marketplaces, online, and retail stores. The company was founded in 1975 and is headquartered in Redmond, Washington.', 'fullTimeEmployees': 228000, 'companyOfficers': [{'maxAge': 1, 'name': 'Mr. Satya  Nadella', 'age': 57, 'title': 'Chairman & CEO', 'yearBorn': 1967, 'fiscalYear': 2024, 'totalPay': 7869791, 'exercisedValue': 0, 'unexercisedValue': 0}, {'maxAge': 1, 'name': 'Mr. Bradford L. Smith LCA', 'age': 65, 'title': 'President & Vice Chairman', 'yearBorn': 1959, 'fiscalYear': 2024, 'totalPay': 4755618, 'exercisedValue': 0, 'unexercisedValue': 0}, {'maxAge': 1, 'name': 'Ms. Amy E. Hood', 'age': 52, 'title': 'Executive VP & CFO', 'yearBorn': 1972, 'fiscalYear': 2024, 'totalPay': 4704250, 'exercisedValue': 0, 'unexercisedValue': 0}, {'maxAge': 1, 'name': 'Mr. Judson B. Althoff', 'age': 50, 'title': 'Executive VP & Chief Commercial Officer', 'yearBorn': 1974, 'fiscalYear': 2024, 'totalPay': 4534974, 'exercisedValue': 0, 'unexercisedValue': 0}], 'auditRisk': 9, 'boardRisk': 5, 'compensationRisk': 4, 'shareHolderRightsRisk': 2, 'overallRisk': 3, 'governanceEpochDate': 1743465600, 'compensationAsOfEpochDate': 1735603200, 'irWebsite': 'http://www.microsoft.com/investor/default.aspx', 'executiveTeam': [], 'maxAge': 86400, 'priceHint': 2, 'previousClose': 390.49, 'open': 382.37, 'dayLow': 367.82, 'dayHigh': 383.9, 'regularMarketPreviousClose': 390.49, 'regularMarketOpen': 382.37, 'regularMarketDayLow': 367.82, 'regularMarketDayHigh': 383.9, 'dividendRate': 3.32, 'dividendYield': 0.92, 'exDividendDate': 1747267200, 'payoutRatio': 0.2482, 'fiveYearAvgDividendYield': 0.84, 'beta': 1.0, 'trailingPE': 29.886877, 'forwardPE': 24.829098, 'volume': 13515466, 'regularMarketVolume': 13515466, 'averageVolume': 25096211, 'averageVolume10days': 32218200, 'averageDailyVolume10Day': 32218200, 'bid': 370.31, 'ask': 372.04, 'bidSize': 1, 'askSize': 1, 'marketCap': 2759456194560, 'fiftyTwoWeekLow': 344.79, 'fiftyTwoWeekHigh': 468.35, 'priceToSalesTrailing12Months': 10.540241, 'fiftyDayAverage': 395.3388, 'twoHundredDayAverage': 419.6582, 'trailingAnnualDividendRate': 3.16, 'trailingAnnualDividendYield': 0.008092397, 'currency': 'USD', 'tradeable': False, 'enterpriseValue': 2706398248960, 'profitMargins': 0.35428002, 'floatShares': 7423574660, 'sharesOutstanding': 7433979904, 'sharesShort': 64256703, 'sharesShortPriorMonth': 53633341, 'sharesShortPreviousMonthDate': 1739491200, 'dateShortInterest': 1741910400, 'sharesPercentSharesOut': 0.0086, 'heldPercentInsiders': 0.00063, 'heldPercentInstitutions': 0.74410003, 'shortRatio': 2.58, 'shortPercentOfFloat': 0.0086, 'impliedSharesOutstanding': 7433979904, 'bookValue': 40.712, 'priceToBook': 9.117581, 'lastFiscalYearEnd': 1719705600, 'nextFiscalYearEnd': 1751241600, 'mostRecentQuarter': 1735603200, 'earningsQuarterlyGrowth': 0.102, 'netIncomeToCommon': 92749996032, 'trailingEps': 12.42, 'forwardEps': 14.95, 'lastSplitFactor': '2:1', 'lastSplitDate': 1045526400, 'enterpriseToRevenue': 10.338, 'enterpriseToEbitda': 19.054, '52WeekChange': -0.087490916, 'SandP52WeekChange': 0.049593568, 'lastDividendValue': 0.83, 'lastDividendDate': 1740009600, 'quoteType': 'EQUITY', 'currentPrice': 371.195, 'targetHighPrice': 650.0, 'targetLowPrice': 415.0, 'targetMeanPrice': 499.1588, 'targetMedianPrice': 495.0, 'recommendationMean': 1.44068, 'recommendationKey': 'strong_buy', 'numberOfAnalystOpinions': 51, 'totalCash': 71554998272, 'totalCashPerShare': 9.625, 'ebitda': 142041006080, 'totalDebt': 102909001728, 'quickRatio': 1.204, 'currentRatio': 1.351, 'totalRevenue': 261802000384, 'debtToEquity': 33.998, 'revenuePerShare': 35.224, 'returnOnAssets': 0.14649001, 'returnOnEquity': 0.34291, 'grossProfits': 181714993152, 'freeCashflow': 51958124544, 'operatingCashflow': 125582999552, 'earningsGrowth': 0.102, 'revenueGrowth': 0.123, 'grossMargins': 0.69408995, 'ebitdaMargins': 0.54255, 'operatingMargins': 0.45458, 'financialCurrency': 'USD', 'symbol': 'MSFT', 'language': 'en-US', 'region': 'US', 'typeDisp': 'Equity', 'quoteSourceName': 'Nasdaq Real Time Price', 'triggerable': True, 'customPriceAlertConfidence': 'HIGH', 'marketState': 'REGULAR', 'firstTradeDateMilliseconds': 511108200000, 'shortName': 'Microsoft Corporation', 'longName': 'Microsoft Corporation', 'epsTrailingTwelveMonths': 12.42, 'epsForward': 14.95, 'epsCurrentYear': 13.17224, 'priceEpsCurrentYear': 28.180098, 'fiftyDayAverageChange': -24.143799, 'fiftyDayAverageChangePercent': -0.061071157, 'twoHundredDayAverageChange': -48.463196, 'twoHundredDayAverageChangePercent': -0.11548254, 'sourceInterval': 15, 'exchangeDataDelayedBy': 0, 'averageAnalystRating': '1.4 - Strong Buy', 'cryptoTradeable': False, 'regularMarketTime': 1744302864, 'hasPrePostMarketData': True, 'regularMarketChange': -19.294983, 'regularMarketDayRange': '367.82 - 383.9', 'fullExchangeName': 'NasdaqGS', 'averageDailyVolume3Month': 25096211, 'fiftyTwoWeekLowChange': 26.404999, 'fiftyTwoWeekLowChangePercent': 0.07658284, 'fiftyTwoWeekRange': '344.79 - 468.35', 'fiftyTwoWeekHighChange': -97.155, 'fiftyTwoWeekHighChangePercent': -0.20744102, 'fiftyTwoWeekChangePercent': -8.749092, 'dividendDate': 1749686400, 'earningsTimestamp': 1746043200, 'earningsTimestampStart': 1746043200, 'earningsTimestampEnd': 1746043200, 'earningsCallTimestampStart': 1746048600, 'earningsCallTimestampEnd': 1746048600, 'isEarningsDateEstimate': False, 'exchange': 'NMS', 'messageBoardId': 'finmb_21835', 'exchangeTimezoneName': 'America/New_York', 'exchangeTimezoneShortName': 'EDT', 'gmtOffSetMilliseconds': -14400000, 'market': 'us_market', 'esgPopulated': False, 'regularMarketChangePercent': -4.9412236, 'regularMarketPrice': 371.195, 'corporateActions': [], 'displayName': 'Microsoft', 'trailingPegRatio': 1.7854}\u001b[0m\u001b[32;1m\u001b[1;3m\n",
      "Invoking: `last_dividend_and_earnings_date` with `{'ticker': 'MSFT'}`\n",
      "\n",
      "\n",
      "\u001b[0m\u001b[33;1m\u001b[1;3m{'Dividend Date': datetime.date(2025, 6, 12), 'Ex-Dividend Date': datetime.date(2025, 5, 15), 'Earnings Date': [datetime.date(2025, 5, 1)], 'Earnings High': 3.56, 'Earnings Low': 3.16, 'Earnings Average': 3.22767, 'Revenue High': 69897682310, 'Revenue Low': 67140000000, 'Revenue Average': 68505782470}\u001b[0m\u001b[32;1m\u001b[1;3m\n",
      "Invoking: `last_dividend_and_earnings_date` with `{'ticker': 'MSFT'}`\n",
      "\n",
      "\n",
      "\u001b[0m\u001b[33;1m\u001b[1;3m{'Dividend Date': datetime.date(2025, 6, 12), 'Ex-Dividend Date': datetime.date(2025, 5, 15), 'Earnings Date': [datetime.date(2025, 5, 1)], 'Earnings High': 3.56, 'Earnings Low': 3.16, 'Earnings Average': 3.22767, 'Revenue High': 69897682310, 'Revenue Low': 67140000000, 'Revenue Average': 68505782470}\u001b[0m\u001b[32;1m\u001b[1;3m\n",
      "Invoking: `last_dividend_and_earnings_date` with `{'ticker': 'MSFT'}`\n",
      "\n",
      "\n",
      "\u001b[0m\u001b[33;1m\u001b[1;3m{'Dividend Date': datetime.date(2025, 6, 12), 'Ex-Dividend Date': datetime.date(2025, 5, 15), 'Earnings Date': [datetime.date(2025, 5, 1)], 'Earnings High': 3.56, 'Earnings Low': 3.16, 'Earnings Average': 3.22767, 'Revenue High': 69897682310, 'Revenue Low': 67140000000, 'Revenue Average': 68505782470}\u001b[0m\u001b[32;1m\u001b[1;3mThe last close price of Microsoft (MSFT) is 371.195.\u001b[0m\n",
      "\n",
      "\u001b[1m> Finished chain.\u001b[0m\n",
      "The last close price of Microsoft (MSFT) is 371.195.\n"
     ]
    }
   ],
   "source": [
    "resp = finance_agent_executor.invoke({\"messages\": [HumanMessage(content=\"What is last close price of microsoft?\")]})\n",
    "print(resp['output'])"
   ]
  },
  {
   "cell_type": "code",
   "execution_count": 16,
   "id": "721be275",
   "metadata": {},
   "outputs": [
    {
     "name": "stdout",
     "output_type": "stream",
     "text": [
      "\n",
      "\n",
      "\u001b[1m> Entering new AgentExecutor chain...\u001b[0m\n",
      "\u001b[32;1m\u001b[1;3m\n",
      "Invoking: `company_information` with `{'ticker': 'NVDA'}`\n",
      "\n",
      "\n",
      "\u001b[0m\u001b[36;1m\u001b[1;3m{'address1': '2788 San Tomas Expressway', 'city': 'Santa Clara', 'state': 'CA', 'zip': '95051', 'country': 'United States', 'phone': '(408) 486-2000', 'website': 'https://www.nvidia.com', 'industry': 'Semiconductors', 'industryKey': 'semiconductors', 'industryDisp': 'Semiconductors', 'sector': 'Technology', 'sectorKey': 'technology', 'sectorDisp': 'Technology', 'longBusinessSummary': \"NVIDIA Corporation, a computing infrastructure company, provides graphics and compute and networking solutions in the United States, Singapore, Taiwan, China, Hong Kong, and internationally. The Compute & Networking segment comprises Data Center computing platforms and end-to-end networking platforms, including Quantum for InfiniBand and Spectrum for Ethernet; NVIDIA DRIVE automated-driving platform and automotive development agreements; Jetson robotics and other embedded platforms; NVIDIA AI Enterprise and other software; and DGX Cloud software and services. The Graphics segment offers GeForce GPUs for gaming and PCs, the GeForce NOW game streaming service and related infrastructure, and solutions for gaming platforms; Quadro/NVIDIA RTX GPUs for enterprise workstation graphics; virtual GPU or vGPU software for cloud-based visual and virtual computing; automotive platforms for infotainment systems; and Omniverse software for building and operating industrial AI and digital twin applications. It also customized agentic solutions designed in collaboration with NVIDIA to accelerate enterprise AI adoption. The company's products are used in gaming, professional visualization, data center, and automotive markets. It sells its products to original equipment manufacturers, original device manufacturers, system integrators and distributors, independent software vendors, cloud service providers, consumer internet companies, add-in board manufacturers, distributors, automotive manufacturers and tier-1 automotive suppliers, and other ecosystem participants. NVIDIA Corporation was incorporated in 1993 and is headquartered in Santa Clara, California.\", 'fullTimeEmployees': 36000, 'companyOfficers': [{'maxAge': 1, 'name': 'Mr. Jen-Hsun  Huang', 'age': 61, 'title': 'Co-Founder, CEO, President & Director', 'yearBorn': 1963, 'fiscalYear': 2024, 'totalPay': 7491487, 'exercisedValue': 217327152, 'unexercisedValue': 0}, {'maxAge': 1, 'name': 'Ms. Colette M. Kress', 'age': 57, 'title': 'Executive VP & CFO', 'yearBorn': 1967, 'fiscalYear': 2024, 'totalPay': 1510765, 'exercisedValue': 0, 'unexercisedValue': 0}, {'maxAge': 1, 'name': 'Ms. Debora  Shoquist', 'age': 69, 'title': 'Executive Vice President of Operations', 'yearBorn': 1955, 'fiscalYear': 2024, 'totalPay': 1371266, 'exercisedValue': 0, 'unexercisedValue': 0}, {'maxAge': 1, 'name': 'Mr. Timothy S. Teter J.D.', 'age': 57, 'title': 'Executive VP, General Counsel & Secretary', 'yearBorn': 1967, 'fiscalYear': 2024, 'totalPay': 1360939, 'exercisedValue': 0, 'unexercisedValue': 0}, {'maxAge': 1, 'name': 'Mr. Ajay K. Puri', 'age': 69, 'title': 'Executive Vice President of Worldwide Field Operations', 'yearBorn': 1955, 'fiscalYear': 2024, 'totalPay': 2295097, 'exercisedValue': 0, 'unexercisedValue': 0}, {'maxAge': 1, 'name': 'Mr. Chris A. Malachowsky', 'title': 'Co-Founder', 'fiscalYear': 2024, 'totalPay': 320000, 'exercisedValue': 0, 'unexercisedValue': 0}, {'maxAge': 1, 'name': 'Mr. Donald F. Robertson Jr.', 'age': 55, 'title': 'VP & Chief Accounting Officer', 'yearBorn': 1969, 'fiscalYear': 2024, 'exercisedValue': 0, 'unexercisedValue': 0}, {'maxAge': 1, 'name': 'Prof. William J. Dally Ph.D.', 'age': 63, 'title': 'Chief Scientist & Senior VP of Research', 'yearBorn': 1961, 'fiscalYear': 2024, 'exercisedValue': 0, 'unexercisedValue': 0}, {'maxAge': 1, 'name': 'Mr. Toshiya  Hari', 'title': 'Vice President of Investor Relations & Strategic Finance', 'fiscalYear': 2024, 'exercisedValue': 0, 'unexercisedValue': 0}, {'maxAge': 1, 'name': 'Ms. Mylene  Mangalindan', 'title': 'VP of Corporate Communications', 'fiscalYear': 2024, 'exercisedValue': 0, 'unexercisedValue': 0}], 'auditRisk': 9, 'boardRisk': 10, 'compensationRisk': 3, 'shareHolderRightsRisk': 6, 'overallRisk': 8, 'governanceEpochDate': 1743465600, 'compensationAsOfEpochDate': 1735603200, 'irWebsite': 'http://phx.corporate-ir.net/phoenix.zhtml?c=116466&p=irol-IRHome', 'executiveTeam': [], 'maxAge': 86400, 'priceHint': 2, 'previousClose': 114.33, 'open': 109.32, 'dayLow': 103.01, 'dayHigh': 110.86, 'regularMarketPreviousClose': 114.33, 'regularMarketOpen': 109.32, 'regularMarketDayLow': 103.01, 'regularMarketDayHigh': 110.86, 'dividendRate': 0.04, 'dividendYield': 0.04, 'exDividendDate': 1741737600, 'payoutRatio': 0.0116, 'fiveYearAvgDividendYield': 0.07, 'beta': 1.958, 'trailingPE': 35.822483, 'forwardPE': 25.562647, 'volume': 224213867, 'regularMarketVolume': 224213867, 'averageVolume': 301894114, 'averageVolume10days': 377741670, 'averageDailyVolume10Day': 377741670, 'bid': 105.13, 'ask': 105.74, 'bidSize': 1, 'askSize': 3, 'marketCap': 2569761456128, 'fiftyTwoWeekLow': 75.606, 'fiftyTwoWeekHigh': 153.13, 'priceToSalesTrailing12Months': 19.69211, 'fiftyDayAverage': 119.67, 'twoHundredDayAverage': 126.64425, 'trailingAnnualDividendRate': 0.034, 'trailingAnnualDividendYield': 0.00029738477, 'currency': 'USD', 'tradeable': False, 'enterpriseValue': 2268224028672, 'profitMargins': 0.55848, 'floatShares': 23413264000, 'sharesOutstanding': 24399998976, 'sharesShort': 258072746, 'sharesShortPriorMonth': 241662760, 'sharesShortPreviousMonthDate': 1739491200, 'dateShortInterest': 1741910400, 'sharesPercentSharesOut': 0.0106, 'heldPercentInsiders': 0.04322, 'heldPercentInstitutions': 0.67485, 'shortRatio': 0.86, 'shortPercentOfFloat': 0.011, 'impliedSharesOutstanding': 24690399232, 'bookValue': 3.241, 'priceToBook': 32.495556, 'lastFiscalYearEnd': 1737849600, 'nextFiscalYearEnd': 1769385600, 'mostRecentQuarter': 1737849600, 'earningsQuarterlyGrowth': 0.798, 'netIncomeToCommon': 72879996928, 'trailingEps': 2.94, 'forwardEps': 4.12, 'lastSplitFactor': '10:1', 'lastSplitDate': 1717977600, 'enterpriseToRevenue': 17.381, 'enterpriseToEbitda': 27.224, '52WeekChange': 0.26169777, 'SandP52WeekChange': 0.049593568, 'lastDividendValue': 0.01, 'lastDividendDate': 1741737600, 'quoteType': 'EQUITY', 'currentPrice': 105.3181, 'targetHighPrice': 220.0, 'targetLowPrice': 115.0, 'targetMeanPrice': 168.01328, 'targetMedianPrice': 170.0, 'recommendationMean': 1.37097, 'recommendationKey': 'strong_buy', 'numberOfAnalystOpinions': 55, 'totalCash': 43209998336, 'totalCashPerShare': 1.771, 'ebitda': 83316998144, 'totalDebt': 10270000128, 'quickRatio': 3.672, 'currentRatio': 4.44, 'totalRevenue': 130497003520, 'debtToEquity': 12.946, 'revenuePerShare': 5.314, 'returnOnAssets': 0.57417, 'returnOnEquity': 1.1917701, 'grossProfits': 97858002944, 'freeCashflow': 44169748480, 'operatingCashflow': 64089001984, 'earningsGrowth': 0.836, 'revenueGrowth': 0.779, 'grossMargins': 0.74988997, 'ebitdaMargins': 0.63846, 'operatingMargins': 0.61107, 'financialCurrency': 'USD', 'symbol': 'NVDA', 'language': 'en-US', 'region': 'US', 'typeDisp': 'Equity', 'quoteSourceName': 'Nasdaq Real Time Price', 'triggerable': True, 'customPriceAlertConfidence': 'HIGH', 'corporateActions': [], 'regularMarketTime': 1744302933, 'marketState': 'REGULAR', 'exchange': 'NMS', 'messageBoardId': 'finmb_32307', 'exchangeTimezoneName': 'America/New_York', 'exchangeTimezoneShortName': 'EDT', 'gmtOffSetMilliseconds': -14400000, 'market': 'us_market', 'esgPopulated': False, 'shortName': 'NVIDIA Corporation', 'fiftyTwoWeekLowChange': 29.712097, 'fiftyTwoWeekLowChangePercent': 0.39298594, 'fiftyTwoWeekRange': '75.606 - 153.13', 'fiftyTwoWeekHighChange': -47.811905, 'fiftyTwoWeekHighChangePercent': -0.3122308, 'fiftyTwoWeekChangePercent': 26.169777, 'dividendDate': 1743552000, 'earningsTimestamp': 1748462400, 'earningsTimestampStart': 1748462400, 'earningsTimestampEnd': 1748462400, 'earningsCallTimestampStart': 1740607200, 'earningsCallTimestampEnd': 1740607200, 'isEarningsDateEstimate': False, 'epsTrailingTwelveMonths': 2.94, 'epsForward': 4.12, 'epsCurrentYear': 4.5275, 'priceEpsCurrentYear': 23.261866, 'fiftyDayAverageChange': -14.351898, 'fiftyDayAverageChangePercent': -0.119928956, 'twoHundredDayAverageChange': -21.326149, 'twoHundredDayAverageChangePercent': -0.16839413, 'sourceInterval': 15, 'exchangeDataDelayedBy': 0, 'averageAnalystRating': '1.4 - Strong Buy', 'cryptoTradeable': False, 'hasPrePostMarketData': True, 'firstTradeDateMilliseconds': 917015400000, 'regularMarketChange': -9.011902, 'regularMarketDayRange': '103.01 - 110.86', 'fullExchangeName': 'NasdaqGS', 'averageDailyVolume3Month': 301894114, 'longName': 'NVIDIA Corporation', 'regularMarketChangePercent': -7.8829184, 'regularMarketPrice': 105.3181, 'displayName': 'NVIDIA', 'trailingPegRatio': 1.1132}\u001b[0m\u001b[32;1m\u001b[1;3mBased on the provided information, the total debt of Nvidia stock is $10.27 billion, the total revenue is $130.49 billion, and the debt-to-equity ratio is 12.946.\u001b[0m\n",
      "\n",
      "\u001b[1m> Finished chain.\u001b[0m\n",
      "Based on the provided information, the total debt of Nvidia stock is $10.27 billion, the total revenue is $130.49 billion, and the debt-to-equity ratio is 12.946.\n"
     ]
    }
   ],
   "source": [
    "resp = finance_agent_executor.invoke({\"messages\": [HumanMessage(content=\"What are total debt, total revenue and debt-to-equity for Nvidia stock?\")]})\n",
    "print(resp['output'])"
   ]
  },
  {
   "cell_type": "code",
   "execution_count": null,
   "id": "21ff4c95",
   "metadata": {},
   "outputs": [],
   "source": []
  }
 ],
 "metadata": {
  "kernelspec": {
   "display_name": ".venv",
   "language": "python",
   "name": "python3"
  },
  "language_info": {
   "codemirror_mode": {
    "name": "ipython",
    "version": 3
   },
   "file_extension": ".py",
   "mimetype": "text/x-python",
   "name": "python",
   "nbconvert_exporter": "python",
   "pygments_lexer": "ipython3",
   "version": "3.12.4"
  }
 },
 "nbformat": 4,
 "nbformat_minor": 5
}
